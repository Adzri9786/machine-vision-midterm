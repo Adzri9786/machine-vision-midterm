{
  "cells": [
    {
      "cell_type": "markdown",
      "metadata": {
        "id": "EpRNh1-L8zuk"
      },
      "source": [
        "## Assessment / Midterm: Machine Vision and Deep Learning\n",
        "<span style=\"color:blue\">\n",
        "    \n",
        "1) Answer all questions\n",
        "    \n",
        "2) This assessment is open-book. You are allowed to refer to any references including online materials, books, notes, codes, github links, etc\n",
        "\n",
        "3) Copy this notebook to your google drive (click **FILE** > **save a copy in Drive**)\n",
        "\n",
        "4) Upload the **answer notebook & trained model** (for Question 3) to your github.\n",
        "\n",
        "5) Submit the assessment by sharing the link to your github containing the answers.\n",
        "    \n",
        "</span>"
      ]
    },
    {
      "cell_type": "markdown",
      "metadata": {
        "id": "jo-_THq1xbaZ"
      },
      "source": [
        "**QUESTION 1 [15 marks]**\n",
        "\n",
        "a) Let *k*, *s* and *p* be 4, 2 and 1, respectively. What will be the shape of the output of the convolutional layer? (2 marks)\n",
        "\n",
        ">>import torch \\\n",
        "import torch.nn as nn \\\n",
        "input_img = torch.rand(1,3,10,10) \\\n",
        "layer = nn.Conv2d(in_channels=3, out_channels=12, kernel_size=*k*, stride=*s*, padding=*p*)\n",
        "print(layer(input_img).shape)\n",
        "\n",
        "<span style=\"color:blue\">\n",
        "    answer:  torch.Size([1, 12, 5, 5])\n",
        "                \n",
        "</span>"
      ]
    },
    {
      "cell_type": "markdown",
      "metadata": {
        "id": "DmvgVTITxbaZ"
      },
      "source": [
        "b) Batch Normalization (BN) normalizes the mean and standard deviation for each: (tick X for the correct answer(s)) (2 marks)\n",
        "\n",
        " - [x] Individual feature map\n",
        " - [ ] Instance in the mini-batch\n",
        " - [X] Spatial dimension    "
      ]
    },
    {
      "cell_type": "markdown",
      "metadata": {
        "id": "vrQvakRdxbaa"
      },
      "source": [
        "c) Which one of the following is not an advantage of Batch Normalization (BN)? (tick X for the correct answer(s)) (2 marks)\n",
        "\n",
        "- [ ] BN accelerates the training of deep neural networks and tackles the vanishing gradient problem.\n",
        "- [ ] For every input mini-batch, we calculate different statistics. This introduces some sort of regularization.\n",
        "- [ ] BN reduces the dependence of gradients on the scale of the parameters or of their initial values.\n",
        "- [X] BN needs a much slower learning rate for the total architecture to converge."
      ]
    },
    {
      "cell_type": "markdown",
      "metadata": {
        "id": "cXXozw79xbaa"
      },
      "source": [
        "d) Choose the correct statement. (tick X for the correct answer) (2 marks)\n",
        "\n",
        "- [X] A larger kernel is preferred for information that resides globally, and a smaller kernel is preferred for information that is distributed locally.\n",
        "- [ ] A larger kernel is preferred for information that resides locally, and a smaller kernel is preferred for information that is distributed globally."
      ]
    },
    {
      "cell_type": "markdown",
      "metadata": {
        "id": "BGhWdJgMxbaa"
      },
      "source": [
        "e) In the following network, how many learnable parameters (weights) are there? (2 marks)"
      ]
    },
    {
      "cell_type": "code",
      "execution_count": null,
      "metadata": {
        "colab": {
          "base_uri": "https://localhost:8080/"
        },
        "outputId": "09e870df-959e-48ff-c527-d10b17cfa689",
        "id": "xoSDbOpno62a"
      },
      "outputs": [
        {
          "output_type": "stream",
          "name": "stdout",
          "text": [
            "Total number of learnable parameters: 122\n"
          ]
        }
      ],
      "source": [
        "model = nn.Sequential(\n",
        "        nn.Linear(3,20),\n",
        "        nn.ReLU(),\n",
        "        nn.Linear(20,2)\n",
        "    )\n",
        "# Count the number of parameters\n",
        "total_params = sum(p.numel() for p in model.parameters() if p.requires_grad)\n",
        "print(f\"Total number of learnable parameters: {total_params}\")"
      ]
    },
    {
      "cell_type": "markdown",
      "metadata": {
        "id": "MQHUgh9Rxbab"
      },
      "source": [
        "<span style=\"color:blue\">\n",
        "    answer: There are 122 learnable parameters.\n",
        "</span>"
      ]
    },
    {
      "cell_type": "markdown",
      "metadata": {
        "id": "SWdNgkFaxbab"
      },
      "source": [
        "f) Which of the following statements are true about deep neural networks? (tick X for the correct answer) (2 marks)\n",
        "\n",
        "- [X] Deep neural networks usually require a big amount of data to be properly trained.\n",
        "- [ ] They can be fooled by adversarial/ noisy examples.\n",
        "- [ ] They are difficult to interpret and understand.\n",
        "- [ ] They can still be subject to biases.\n",
        "- [ ] They fail to understand the context of the data that they are handling.\n",
        "- [ ] They perform very well on individual tasks but fail to generalize to many different tasks."
      ]
    },
    {
      "cell_type": "markdown",
      "metadata": {
        "id": "ise8qoJJxbab"
      },
      "source": [
        "g) Run the code in the next cell."
      ]
    },
    {
      "cell_type": "code",
      "execution_count": null,
      "metadata": {
        "id": "7mfF00_rxbac"
      },
      "outputs": [],
      "source": [
        "# import numpy as np\n",
        "from sklearn.datasets import make_moons\n",
        "import matplotlib.pyplot as plt\n",
        "%matplotlib inline\n",
        "\n",
        "# generate synthetic data in 2D\n",
        "X, Y = make_moons(500, noise=0.2)\n",
        "\n",
        "# plot the data\n",
        "plt.scatter(X[:,0], X[:,1], c=Y)\n",
        "plt.title('2D Data')\n",
        "plt.show()"
      ]
    },
    {
      "cell_type": "markdown",
      "metadata": {
        "id": "Z6SvLxoexbac"
      },
      "source": [
        "Can this data be correctly separable using the classifier below? Why? (3 marks)\n",
        "\n",
        "model = nn.Sequential( \\\n",
        "    nn.Linear(n_input_dim, n_output), \\\n",
        "    nn.Sigmoid() \\\n",
        "    )\n",
        "    \n",
        "<span style=\"color:blue\">\n",
        "    answer:\n",
        "     NO. Linear classifier only contains a single linear layer. If the data is not linearly separable, a linear classifier may struggle to accurately classify the points.While the sigmoid activation function is capable of transforming the output of a neural network into a probability-like range (between 0 and 1), it may struggle to capture complex, non-linear decision boundaries in certain datasets.The dataset is not linearly separable due to its crescent moon shape, and the linear classifier with a sigmoid activation may struggle to capture the non-linear decision boundary needed to distinguish between the two classes.\n",
        "     The data cannot be correctly separable using the provided classifier because of its simplicity and inability to capture the non-linear nature of the dataset.\n",
        "\n",
        "\n",
        "</span>"
      ]
    },
    {
      "cell_type": "markdown",
      "metadata": {
        "id": "kjRauIpz8zun"
      },
      "source": [
        "**QUESTION 2 [40 marks]**\n",
        "\n",
        "The COVID-19 pandemic continues to have a devastating effect on the health and well-being of the global population. A critical step in the fight against COVID-19 is effective screening of infected patients, with one of the key screening approaches being radiology examination using chest radiography. As a deep learning engineer, you are tasked to classify a dataset of X-ray images as either \"normal\", \"covid\" or \"viral pneumonia\". Use the chest X-ray dataset publicly available at https://www.kaggle.com/datasets/pranavraikokte/covid19-image-dataset to answer the following questions.\n"
      ]
    },
    {
      "cell_type": "markdown",
      "metadata": {
        "id": "CW6A4Pmj8zuo"
      },
      "source": [
        "a) Create and train a ConvNet corresponding to the following architecture in Fig. 1 (with modifications of the input and final layers). Please include **(10 marks)**:\n",
        "\n",
        "    1) The dataloader to load the train and test datasets.\n",
        "\n",
        "    2) The model definition (either using sequential method OR pytorch class method).\n",
        "\n",
        "    3) Define your training loop.\n",
        "\n",
        "    4) Output the mean accuracy for the whole testing dataset.\n",
        "\n",
        "![pic](https://raw.githubusercontent.com/CUTe-EmbeddedAI/images/main/images/LeNet.png)\n",
        "    \n",
        "                                Fig. 1: A convolutional neural network"
      ]
    },
    {
      "cell_type": "code",
      "execution_count": null,
      "metadata": {
        "id": "5Ue0OHCL8zup"
      },
      "outputs": [],
      "source": [
        "###############################################\n",
        "###############YOUR CODES HERE ################\n",
        "###############################################"
      ]
    },
    {
      "cell_type": "code",
      "source": [
        "from google.colab import drive\n",
        "drive.mount('/content/drive')"
      ],
      "metadata": {
        "id": "Xry6YplnOLra"
      },
      "execution_count": null,
      "outputs": []
    },
    {
      "cell_type": "code",
      "execution_count": null,
      "metadata": {
        "id": "SVCFMW-G6kaW"
      },
      "outputs": [],
      "source": [
        "import torch\n",
        "from torch import nn\n",
        "\n",
        "import torchvision\n",
        "from torchvision import datasets, models\n",
        "import torchvision.transforms as transforms\n",
        "import numpy as np\n",
        "import matplotlib.pyplot as plt"
      ]
    },
    {
      "cell_type": "code",
      "execution_count": null,
      "metadata": {
        "id": "Ib4oHpg69K0b"
      },
      "outputs": [],
      "source": [
        "transform = transforms.Compose(\n",
        "    [#transforms.Resize((40,40)),\n",
        "    #  transforms.Augmix(),\n",
        "    #  transforms.CenterCrop(),\n",
        "     transforms.Resize((32,32)),\n",
        "     transforms.ToTensor(),\n",
        "     transforms.Normalize((0.5, 0.5, 0.5), (0.5, 0.5, 0.5)) ])\n",
        "\n",
        "\n",
        "train_dir = '/content/drive/MyDrive/Covid19-dataset/train'\n",
        "test_dir = '/content/drive/MyDrive/Covid19-dataset/test'\n",
        "\n",
        "train_data = datasets.ImageFolder(root=train_dir,\n",
        "                                  transform=transform)\n",
        "\n",
        "test_data = datasets.ImageFolder(root=test_dir,\n",
        "                                 transform=transform)"
      ]
    },
    {
      "cell_type": "code",
      "execution_count": null,
      "metadata": {
        "id": "ehKkW0UxCALA",
        "colab": {
          "base_uri": "https://localhost:8080/"
        },
        "outputId": "bf49e3bc-bd56-490a-cdf7-c76de2e0749e"
      },
      "outputs": [
        {
          "output_type": "execute_result",
          "data": {
            "text/plain": [
              "['Covid', 'Normal', 'Viral Pneumonia']"
            ]
          },
          "metadata": {},
          "execution_count": 20
        }
      ],
      "source": [
        "img, label = train_data[0]\n",
        "train_data.classes"
      ]
    },
    {
      "cell_type": "code",
      "execution_count": null,
      "metadata": {
        "id": "dlpNaTrGkh_v"
      },
      "outputs": [],
      "source": [
        "from torch.utils.data import DataLoader\n",
        "\n",
        "train_dataloader = DataLoader(train_data, batch_size=8, shuffle=True) # change batch_size to reduce memory error\n",
        "\n",
        "test_dataloader = DataLoader(test_data, batch_size=8, shuffle=False) #turn our images into batches"
      ]
    },
    {
      "cell_type": "code",
      "execution_count": null,
      "metadata": {
        "id": "Z2j1cYZrmmQ2"
      },
      "outputs": [],
      "source": [
        "train_imgBatch, train_labelBatch = next(iter(train_dataloader))"
      ]
    },
    {
      "cell_type": "code",
      "source": [
        "train_imgBatch.shape"
      ],
      "metadata": {
        "id": "pAS673FNmzGG",
        "colab": {
          "base_uri": "https://localhost:8080/"
        },
        "outputId": "b38ea3eb-f2ca-491f-a700-72f80534ea10"
      },
      "execution_count": null,
      "outputs": [
        {
          "output_type": "execute_result",
          "data": {
            "text/plain": [
              "torch.Size([8, 3, 32, 32])"
            ]
          },
          "metadata": {},
          "execution_count": 23
        }
      ]
    },
    {
      "cell_type": "code",
      "source": [
        "flatten_layer = nn.Flatten()\n",
        "input = flatten_layer(train_imgBatch)\n",
        "input.shape"
      ],
      "metadata": {
        "id": "VlWvMGOuoogE",
        "colab": {
          "base_uri": "https://localhost:8080/"
        },
        "outputId": "4c1ca66b-0580-4a39-ffcd-69b097653001"
      },
      "execution_count": null,
      "outputs": [
        {
          "output_type": "execute_result",
          "data": {
            "text/plain": [
              "torch.Size([8, 3072])"
            ]
          },
          "metadata": {},
          "execution_count": 24
        }
      ]
    },
    {
      "cell_type": "code",
      "source": [
        "class CNNModel(nn.Module):\n",
        "    def __init__(self):\n",
        "        super(CNNModel, self).__init__()\n",
        "\n",
        "        # Convolutional Layers\n",
        "        self.conv1 = nn.Conv2d(in_channels=3, out_channels=6, kernel_size=5)  # C1\n",
        "        self.subsample1 = nn.MaxPool2d(kernel_size=2, stride=2)  # S2\n",
        "        self.conv2 = nn.Conv2d(in_channels=6, out_channels=16, kernel_size=5)  # C3\n",
        "        self.subsample2 = nn.MaxPool2d(kernel_size=2, stride=2)  # S4\n",
        "\n",
        "        # # Fully Connected Layers\n",
        "        self.fc1 = nn.Linear(16 * 5 * 5, 120)  # F5\n",
        "        self.fc2 = nn.Linear(120, 10)  # F6\n",
        "\n",
        "        # Activation Function\n",
        "        self.relu = nn.ReLU()\n",
        "\n",
        "    def forward(self, x):\n",
        "        # Convolutional Layers\n",
        "        x = self.relu(self.conv1(x))\n",
        "        x = self.subsample1(x)\n",
        "        x = self.relu(self.conv2(x))\n",
        "        x = self.subsample2(x)\n",
        "\n",
        "        # Flatten before Fully Connected Layers\n",
        "        x = x.view(-1, 16 * 5 * 5)\n",
        "\n",
        "        # Fully Connected Layers\n",
        "        x = self.relu(self.fc1(x))\n",
        "        x = self.fc2(x)\n",
        "\n",
        "        return x\n",
        "\n",
        "\n",
        "#9 neurons altogether\n",
        "model = CNNModel()\n",
        "\n",
        "\n",
        "# Display the model architecture\n",
        "print(model)"
      ],
      "metadata": {
        "id": "pmTeG2mpWkyF",
        "colab": {
          "base_uri": "https://localhost:8080/"
        },
        "outputId": "e867f539-bde2-40ad-bff6-d90ed99643ca"
      },
      "execution_count": null,
      "outputs": [
        {
          "output_type": "stream",
          "name": "stdout",
          "text": [
            "CNNModel(\n",
            "  (conv1): Conv2d(3, 6, kernel_size=(5, 5), stride=(1, 1))\n",
            "  (subsample1): MaxPool2d(kernel_size=2, stride=2, padding=0, dilation=1, ceil_mode=False)\n",
            "  (conv2): Conv2d(6, 16, kernel_size=(5, 5), stride=(1, 1))\n",
            "  (subsample2): MaxPool2d(kernel_size=2, stride=2, padding=0, dilation=1, ceil_mode=False)\n",
            "  (fc1): Linear(in_features=400, out_features=120, bias=True)\n",
            "  (fc2): Linear(in_features=120, out_features=10, bias=True)\n",
            "  (relu): ReLU()\n",
            ")\n"
          ]
        }
      ]
    },
    {
      "cell_type": "code",
      "source": [
        "\n",
        "# loss and optimizer\n",
        "\n",
        "# cross-entropy loss\n",
        "\n",
        "loss_fn = nn.CrossEntropyLoss()\n",
        "optimizer = torch.optim.SGD(model.parameters(), lr=0.001, momentum=0.9)\n",
        "\n",
        "# 3. move the model to GPU\n",
        "device = torch.device('cuda:0' if torch.cuda.is_available() else 'cpu')\n",
        "model.to(device)"
      ],
      "metadata": {
        "colab": {
          "base_uri": "https://localhost:8080/"
        },
        "id": "Fc50CkqkW_tb",
        "outputId": "26854912-c124-433b-ec79-db51a4aa0328"
      },
      "execution_count": null,
      "outputs": [
        {
          "output_type": "execute_result",
          "data": {
            "text/plain": [
              "CNNModel(\n",
              "  (conv1): Conv2d(3, 6, kernel_size=(5, 5), stride=(1, 1))\n",
              "  (subsample1): MaxPool2d(kernel_size=2, stride=2, padding=0, dilation=1, ceil_mode=False)\n",
              "  (conv2): Conv2d(6, 16, kernel_size=(5, 5), stride=(1, 1))\n",
              "  (subsample2): MaxPool2d(kernel_size=2, stride=2, padding=0, dilation=1, ceil_mode=False)\n",
              "  (fc1): Linear(in_features=400, out_features=120, bias=True)\n",
              "  (fc2): Linear(in_features=120, out_features=10, bias=True)\n",
              "  (relu): ReLU()\n",
              ")"
            ]
          },
          "metadata": {},
          "execution_count": 30
        }
      ]
    },
    {
      "cell_type": "code",
      "source": [
        "import time\n",
        "from tqdm.auto import tqdm\n",
        "\n",
        "def train_and_validate(model, loss_criterion, optimizer, train_dataloader, test_dataloader, epochs=25, device='cuda'):\n",
        "    '''\n",
        "    Function to train and validate\n",
        "    Parameters\n",
        "        :param model: Model to train and validate\n",
        "        :param loss_criterion: Loss Criterion to minimize\n",
        "        :param optimizer: Optimizer for computing gradients\n",
        "        :param train_dataloader: DataLoader for training data\n",
        "        :param test_dataloader: DataLoader for test/validation data\n",
        "        :param epochs: Number of epochs (default=25)\n",
        "        :param device: Device to perform computations ('cuda' or 'cpu')\n",
        "\n",
        "    Returns\n",
        "        model: Trained Model with best validation accuracy\n",
        "        history: (dict object): Having training loss, accuracy and validation loss, accuracy\n",
        "    '''\n",
        "\n",
        "    start = time.time()\n",
        "    history = []\n",
        "    best_acc = 0.0\n",
        "\n",
        "    for epoch in tqdm(range(epochs)):\n",
        "        epoch_start = time.time()\n",
        "        print(\"Epoch: {}/{}\".format(epoch+1, epochs))\n",
        "\n",
        "        model.train()\n",
        "\n",
        "        train_loss = 0.0\n",
        "        train_acc = 0.0\n",
        "\n",
        "        valid_loss = 0.0\n",
        "        valid_acc = 0.0\n",
        "\n",
        "        for i, (inputs, labels) in enumerate(train_dataloader):\n",
        "\n",
        "            inputs = inputs.to(device)\n",
        "            labels = labels.to(device)\n",
        "\n",
        "            # Clean existing gradients\n",
        "            optimizer.zero_grad()\n",
        "\n",
        "            # Forward pass - compute outputs on input data using the model\n",
        "            outputs = model(inputs)\n",
        "\n",
        "            # Compute loss\n",
        "            loss = loss_criterion(outputs, labels)\n",
        "\n",
        "            # Backpropagate the gradients\n",
        "            loss.backward()\n",
        "\n",
        "            # Update the parameters\n",
        "            optimizer.step()\n",
        "\n",
        "            # Compute the total loss for the batch and add it to train_loss\n",
        "            train_loss += loss.item() * inputs.size(0)\n",
        "\n",
        "            # Compute the accuracy\n",
        "            ret, predictions = torch.max(outputs.data, 1)\n",
        "            correct_counts = predictions.eq(labels.data.view_as(predictions))\n",
        "\n",
        "            # Convert correct_counts to float and then compute the mean\n",
        "            acc = torch.mean(correct_counts.type(torch.FloatTensor))\n",
        "\n",
        "            # Compute total accuracy in the whole batch and add to train_acc\n",
        "            train_acc += acc.item() * inputs.size(0)\n",
        "\n",
        "        # Validation - No gradient tracking needed\n",
        "        with torch.no_grad():\n",
        "\n",
        "            model.eval()\n",
        "\n",
        "            # Validation loop\n",
        "            for j, (inputs, labels) in enumerate(test_dataloader):\n",
        "                inputs = inputs.to(device)\n",
        "                labels = labels.to(device)\n",
        "\n",
        "                # Forward pass - compute outputs on input data using the model\n",
        "                outputs = model(inputs)\n",
        "\n",
        "                # Compute loss\n",
        "                loss = loss_criterion(outputs, labels)\n",
        "\n",
        "                # Compute the total loss for the batch and add it to valid_loss\n",
        "                valid_loss += loss.item() * inputs.size(0)\n",
        "\n",
        "                # Calculate validation accuracy\n",
        "                ret, predictions = torch.max(outputs.data, 1)\n",
        "                correct_counts = predictions.eq(labels.data.view_as(predictions))\n",
        "\n",
        "                # Convert correct_counts to float and then compute the mean\n",
        "                acc = torch.mean(correct_counts.type(torch.FloatTensor))\n",
        "\n",
        "                # Compute total accuracy in the whole batch and add to valid_acc\n",
        "                valid_acc += acc.item() * inputs.size(0)\n",
        "\n",
        "\n",
        "        # Find average training loss and training accuracy\n",
        "        avg_train_loss = train_loss / len(train_dataloader.dataset)\n",
        "        avg_train_acc = train_acc / len(train_dataloader.dataset)\n",
        "\n",
        "        # Find average validation loss and training accuracy\n",
        "        avg_test_loss = valid_loss / len(test_dataloader.dataset)\n",
        "        avg_test_acc = valid_acc / len(test_dataloader.dataset)\n",
        "\n",
        "        history.append([avg_train_loss, avg_test_loss, avg_train_acc, avg_test_acc])\n",
        "\n",
        "        epoch_end = time.time()\n",
        "\n",
        "        print(\"Epoch : {:03d}, Training: Loss: {:.4f}, Accuracy: {:.4f}%, \\n\\t\\tValidation : Loss : {:.4f}, Accuracy: {:.4f}%, Time: {:.4f}s\".format(epoch, avg_train_loss, avg_train_acc * 100, avg_test_loss, avg_test_acc * 100, epoch_end - epoch_start))\n",
        "\n",
        "        # Save if the model has best accuracy till now\n",
        "        if avg_test_acc > best_acc:\n",
        "            best_acc = avg_test_acc\n",
        "            best_model = model\n",
        "            torch.save(best_model, 'best_model.pt')\n",
        "\n",
        "    return best_model, history"
      ],
      "metadata": {
        "id": "QyeQuLfjXFAL"
      },
      "execution_count": null,
      "outputs": []
    },
    {
      "cell_type": "code",
      "source": [
        "num_epochs = 10\n",
        "trained_model, history = train_and_validate(model, loss_fn, optimizer,\n",
        "                                          train_dataloader, test_dataloader,\n",
        "                                          num_epochs)"
      ],
      "metadata": {
        "colab": {
          "base_uri": "https://localhost:8080/",
          "height": 603,
          "referenced_widgets": [
            "0b8ef4fccfc64c54adadcf1dc981e903",
            "0b2551741fa94ada9f42fbd7c3c5653d",
            "1b03478e1b7f4b5294f8dd227d94de75",
            "91c2de3d1afa4419b7afae78c851ca74",
            "b63c1716126a47baa5ba9cb71c6f1408",
            "ef3ad6121eb242a3b5dbdff2b32aeed2",
            "f0f67315ee88486dac0405915c98e448",
            "755e8e49a4e446aa8f8f7be55f86efcd",
            "8893a3d2cd7e4d6fb399d0610606b81c",
            "df3c88163ba445dd985bfac8659bd5ee",
            "d9f27fda43ce40a8a3b41a94d4270a0a"
          ]
        },
        "id": "YO12ieZxXI3s",
        "outputId": "edb69fc7-73a0-4ab0-b786-2ae81e6cb77c"
      },
      "execution_count": null,
      "outputs": [
        {
          "output_type": "display_data",
          "data": {
            "text/plain": [
              "  0%|          | 0/10 [00:00<?, ?it/s]"
            ],
            "application/vnd.jupyter.widget-view+json": {
              "version_major": 2,
              "version_minor": 0,
              "model_id": "0b8ef4fccfc64c54adadcf1dc981e903"
            }
          },
          "metadata": {}
        },
        {
          "output_type": "stream",
          "name": "stdout",
          "text": [
            "Epoch: 1/10\n",
            "Epoch : 000, Training: Loss: 2.2971, Accuracy: 10.7570%, \n",
            "\t\tValidation : Loss : 2.2291, Accuracy: 39.3939%, Time: 11.2699s\n",
            "Epoch: 2/10\n",
            "Epoch : 001, Training: Loss: 2.1406, Accuracy: 44.2231%, \n",
            "\t\tValidation : Loss : 2.0228, Accuracy: 39.3939%, Time: 9.5508s\n",
            "Epoch: 3/10\n",
            "Epoch : 002, Training: Loss: 1.7671, Accuracy: 44.2231%, \n",
            "\t\tValidation : Loss : 1.3799, Accuracy: 39.3939%, Time: 13.9386s\n",
            "Epoch: 4/10\n",
            "Epoch : 003, Training: Loss: 1.1344, Accuracy: 46.2151%, \n",
            "\t\tValidation : Loss : 1.0623, Accuracy: 39.3939%, Time: 11.1552s\n",
            "Epoch: 5/10\n",
            "Epoch : 004, Training: Loss: 0.9927, Accuracy: 52.9880%, \n",
            "\t\tValidation : Loss : 0.9730, Accuracy: 60.6061%, Time: 9.9061s\n",
            "Epoch: 6/10\n",
            "Epoch : 005, Training: Loss: 0.8634, Accuracy: 67.3307%, \n",
            "\t\tValidation : Loss : 0.8308, Accuracy: 71.2121%, Time: 10.9805s\n",
            "Epoch: 7/10\n",
            "Epoch : 006, Training: Loss: 0.6477, Accuracy: 81.6733%, \n",
            "\t\tValidation : Loss : 0.6437, Accuracy: 78.7879%, Time: 11.1533s\n",
            "Epoch: 8/10\n",
            "Epoch : 007, Training: Loss: 0.4186, Accuracy: 87.2510%, \n",
            "\t\tValidation : Loss : 0.6027, Accuracy: 75.7576%, Time: 10.9892s\n",
            "Epoch: 9/10\n",
            "Epoch : 008, Training: Loss: 0.3590, Accuracy: 87.6494%, \n",
            "\t\tValidation : Loss : 0.6710, Accuracy: 69.6970%, Time: 9.5348s\n",
            "Epoch: 10/10\n",
            "Epoch : 009, Training: Loss: 0.2711, Accuracy: 88.8446%, \n",
            "\t\tValidation : Loss : 0.6935, Accuracy: 71.2121%, Time: 11.1328s\n"
          ]
        }
      ]
    },
    {
      "cell_type": "code",
      "source": [
        "def plot_accuracy(history):\n",
        "  history = np.array(history)\n",
        "  plt.plot(history[:,2:4])\n",
        "  plt.legend(['Tr Accuracy', 'Val Accuracy'])\n",
        "  plt.xlabel('Epoch Number')\n",
        "  plt.ylabel('Accuracy')\n",
        "  plt.ylim(0,1)\n",
        "  # plt.savefig('cifar10_accuracy_curve.png')\n",
        "  plt.show()\n",
        "\n",
        "plot_accuracy(history)"
      ],
      "metadata": {
        "colab": {
          "base_uri": "https://localhost:8080/",
          "height": 455
        },
        "id": "wuH57UUEM2PZ",
        "outputId": "89c372f2-a124-412c-be83-d9b9809358dd"
      },
      "execution_count": null,
      "outputs": [
        {
          "output_type": "display_data",
          "data": {
            "text/plain": [
              "<Figure size 640x480 with 1 Axes>"
            ],
            "image/png": "[encoded data removed]"
          },
          "metadata": {}
        }
      ]
    },
    {
      "cell_type": "markdown",
      "metadata": {
        "id": "mvZh8v7rxbad"
      },
      "source": [
        "b) Based on Question 2 a), answer the following questions:\n",
        "    \n",
        "    i) Is the model overfitting? Why? (4 marks)\n",
        "   <font color='blue'>YES. The consistent increase in training accuracy up to 88.84% suggests effective learning from the training data. However, the validation accuracy plateaus around 71.21%, indicating a lack of improvement in the model's performance on unseen data. The substantial gap between training and validation accuracy suggests over-specialization to the training data, hindering the model's ability to generalize effectively. Additionally, fluctuations in validation loss, though not consistently decreasing, further suggest overfitting.</font>\n",
        "    \n",
        "    ii) Propose two methods to reduce the effect of overfitting. (4 marks)\n",
        "   <font color='blue'>Two methods that I propose are: (1) Batch Normalization and Dropout (2) Data Augmentation</font>\n",
        "   \n",
        "    iii) Implement the two proposed methods in Q2 b) ii) in the next cell and show that the overfitting has been reduced. (8 marks)"
      ]
    },
    {
      "cell_type": "code",
      "execution_count": null,
      "metadata": {
        "id": "fbTMm19wxbad"
      },
      "outputs": [],
      "source": [
        "###############################################\n",
        "###############YOUR CODES HERE ################\n",
        "###############################################"
      ]
    },
    {
      "cell_type": "code",
      "source": [
        "from google.colab import drive\n",
        "drive.mount('/content/drive')"
      ],
      "metadata": {
        "id": "G1GVRDpLZ0qE"
      },
      "execution_count": null,
      "outputs": []
    },
    {
      "cell_type": "code",
      "execution_count": null,
      "metadata": {
        "id": "8dUSVUGPZ0qF"
      },
      "outputs": [],
      "source": [
        "import torch\n",
        "from torch import nn\n",
        "\n",
        "import torchvision\n",
        "from torchvision import datasets, models\n",
        "import torchvision.transforms as transforms\n",
        "import numpy as np\n",
        "import matplotlib.pyplot as plt"
      ]
    },
    {
      "cell_type": "code",
      "execution_count": null,
      "metadata": {
        "id": "5gixGbITZ0qF"
      },
      "outputs": [],
      "source": [
        "transform = transforms.Compose(\n",
        "    [#transforms.Resize((40,40)),\n",
        "    #  transforms.Augmix(),\n",
        "    #  transforms.CenterCrop(),\n",
        "     transforms.Resize((32,32)),\n",
        "     transforms.ToTensor(),\n",
        "     transforms.Normalize((0.5, 0.5, 0.5), (0.5, 0.5, 0.5)) ])\n",
        "\n",
        "\n",
        "train_dir = '/content/drive/MyDrive/Covid19-dataset/train'\n",
        "test_dir = '/content/drive/MyDrive/Covid19-dataset/test'\n",
        "\n",
        "train_data = datasets.ImageFolder(root=train_dir,\n",
        "                                  transform=transform)\n",
        "\n",
        "test_data = datasets.ImageFolder(root=test_dir,\n",
        "                                 transform=transform)"
      ]
    },
    {
      "cell_type": "code",
      "execution_count": null,
      "metadata": {
        "id": "ie7_rvx_Z0qF"
      },
      "outputs": [],
      "source": [
        "img, label = train_data[0]\n",
        "train_data.classes"
      ]
    },
    {
      "cell_type": "code",
      "execution_count": null,
      "metadata": {
        "id": "hZDyz5vjZ0qG"
      },
      "outputs": [],
      "source": [
        "from torch.utils.data import DataLoader\n",
        "\n",
        "train_dataloader = DataLoader(train_data, batch_size=8, shuffle=True) # change batch_size to reduce memory error\n",
        "\n",
        "test_dataloader = DataLoader(test_data, batch_size=8, shuffle=False) #turn our images into batches"
      ]
    },
    {
      "cell_type": "code",
      "execution_count": null,
      "metadata": {
        "id": "r25N1D-UZ0qG"
      },
      "outputs": [],
      "source": [
        "train_imgBatch, train_labelBatch = next(iter(train_dataloader))"
      ]
    },
    {
      "cell_type": "code",
      "source": [
        "train_imgBatch.shape"
      ],
      "metadata": {
        "id": "2jq3wclrZ0qG"
      },
      "execution_count": null,
      "outputs": []
    },
    {
      "cell_type": "code",
      "source": [
        "flatten_layer = nn.Flatten()\n",
        "input = flatten_layer(train_imgBatch)\n",
        "input.shape"
      ],
      "metadata": {
        "id": "XIdjLyafZ0qH"
      },
      "execution_count": null,
      "outputs": []
    },
    {
      "cell_type": "code",
      "source": [
        "class CNNModel(nn.Module):\n",
        "    def __init__(self):\n",
        "        super(CNNModel, self).__init__()\n",
        "\n",
        "        # Convolutional Layers\n",
        "        self.conv1 = nn.Conv2d(in_channels=3, out_channels=6, kernel_size=5)  # C1\n",
        "        self.batchnorm1 = nn.BatchNorm2d(6)\n",
        "        self.subsample1 = nn.MaxPool2d(kernel_size=2, stride=2)  # S2\n",
        "        self.dropout1 = nn.Dropout(0.2)  # Dropout after subsample1\n",
        "        self.conv2 = nn.Conv2d(in_channels=6, out_channels=16, kernel_size=5)  # C3\n",
        "        self.batchnorm2 = nn.BatchNorm2d(16)\n",
        "        self.subsample2 = nn.MaxPool2d(kernel_size=2, stride=2)  # S4\n",
        "        self.dropout2 = nn.Dropout(0.2)  # Dropout after subsample2\n",
        "\n",
        "        # Fully Connected Layers\n",
        "        self.fc1 = nn.Linear(16 * 5 * 5, 120)  # F5\n",
        "        self.batchnorm3 = nn.BatchNorm1d(120)\n",
        "        self.dropout3 = nn.Dropout(0.5)  # Dropout after fc1\n",
        "        self.fc2 = nn.Linear(120, 10)  # F6\n",
        "\n",
        "        # Activation Function\n",
        "        self.relu = nn.ReLU()\n",
        "\n",
        "    def forward(self, x):\n",
        "        # Convolutional Layers\n",
        "        x = self.relu(self.conv1(x))\n",
        "        x = self.batchnorm1(x)\n",
        "        x = self.subsample1(x)\n",
        "        x = self.dropout1(x)\n",
        "        x = self.relu(self.conv2(x))\n",
        "        x = self.batchnorm2(x)\n",
        "        x = self.subsample2(x)\n",
        "        x = self.dropout2(x)\n",
        "\n",
        "        # Flatten before Fully Connected Layers\n",
        "        x = x.view(-1, 16 * 5 * 5)\n",
        "\n",
        "        # Fully Connected Layers\n",
        "        x = self.relu(self.fc1(x))\n",
        "        x = self.batchnorm3(x)\n",
        "        x = self.dropout3(x)\n",
        "        x = self.fc2(x)\n",
        "\n",
        "        return x\n",
        "\n",
        "\n",
        "#9 neurons altogether\n",
        "model = CNNModel()"
      ],
      "metadata": {
        "id": "wviK1PbEZ0qH"
      },
      "execution_count": null,
      "outputs": []
    },
    {
      "cell_type": "code",
      "source": [
        "\n",
        "# loss and optimizer\n",
        "\n",
        "# cross-entropy loss\n",
        "\n",
        "loss_fn = nn.CrossEntropyLoss()\n",
        "optimizer = torch.optim.SGD(model.parameters(), lr=0.001, momentum=0.9)\n",
        "\n",
        "# 3. move the model to GPU\n",
        "device = torch.device('cuda:0' if torch.cuda.is_available() else 'cpu')\n",
        "model.to(device)"
      ],
      "metadata": {
        "id": "VKAEptdTZ0qH"
      },
      "execution_count": null,
      "outputs": []
    },
    {
      "cell_type": "code",
      "source": [
        "import time\n",
        "from tqdm.auto import tqdm\n",
        "\n",
        "def train_and_validate(model, loss_criterion, optimizer, train_dataloader, test_dataloader, epochs=25, device='cuda'):\n",
        "    '''\n",
        "    Function to train and validate\n",
        "    Parameters\n",
        "        :param model: Model to train and validate\n",
        "        :param loss_criterion: Loss Criterion to minimize\n",
        "        :param optimizer: Optimizer for computing gradients\n",
        "        :param train_dataloader: DataLoader for training data\n",
        "        :param test_dataloader: DataLoader for test/validation data\n",
        "        :param epochs: Number of epochs (default=25)\n",
        "        :param device: Device to perform computations ('cuda' or 'cpu')\n",
        "\n",
        "    Returns\n",
        "        model: Trained Model with best validation accuracy\n",
        "        history: (dict object): Having training loss, accuracy and validation loss, accuracy\n",
        "    '''\n",
        "\n",
        "    start = time.time()\n",
        "    history = []\n",
        "    best_acc = 0.0\n",
        "\n",
        "    for epoch in tqdm(range(epochs)):\n",
        "        epoch_start = time.time()\n",
        "        print(\"Epoch: {}/{}\".format(epoch+1, epochs))\n",
        "\n",
        "        model.train()\n",
        "\n",
        "        train_loss = 0.0\n",
        "        train_acc = 0.0\n",
        "\n",
        "        valid_loss = 0.0\n",
        "        valid_acc = 0.0\n",
        "\n",
        "        for i, (inputs, labels) in enumerate(train_dataloader):\n",
        "\n",
        "            inputs = inputs.to(device)\n",
        "            labels = labels.to(device)\n",
        "\n",
        "            # Clean existing gradients\n",
        "            optimizer.zero_grad()\n",
        "\n",
        "            # Forward pass - compute outputs on input data using the model\n",
        "            outputs = model(inputs)\n",
        "\n",
        "            # Compute loss\n",
        "            loss = loss_criterion(outputs, labels)\n",
        "\n",
        "            # Backpropagate the gradients\n",
        "            loss.backward()\n",
        "\n",
        "            # Update the parameters\n",
        "            optimizer.step()\n",
        "\n",
        "            # Compute the total loss for the batch and add it to train_loss\n",
        "            train_loss += loss.item() * inputs.size(0)\n",
        "\n",
        "            # Compute the accuracy\n",
        "            ret, predictions = torch.max(outputs.data, 1)\n",
        "            correct_counts = predictions.eq(labels.data.view_as(predictions))\n",
        "\n",
        "            # Convert correct_counts to float and then compute the mean\n",
        "            acc = torch.mean(correct_counts.type(torch.FloatTensor))\n",
        "\n",
        "            # Compute total accuracy in the whole batch and add to train_acc\n",
        "            train_acc += acc.item() * inputs.size(0)\n",
        "\n",
        "        # Validation - No gradient tracking needed\n",
        "        with torch.no_grad():\n",
        "\n",
        "            model.eval()\n",
        "\n",
        "            # Validation loop\n",
        "            for j, (inputs, labels) in enumerate(test_dataloader):\n",
        "                inputs = inputs.to(device)\n",
        "                labels = labels.to(device)\n",
        "\n",
        "                # Forward pass - compute outputs on input data using the model\n",
        "                outputs = model(inputs)\n",
        "\n",
        "                # Compute loss\n",
        "                loss = loss_criterion(outputs, labels)\n",
        "\n",
        "                # Compute the total loss for the batch and add it to valid_loss\n",
        "                valid_loss += loss.item() * inputs.size(0)\n",
        "\n",
        "                # Calculate validation accuracy\n",
        "                ret, predictions = torch.max(outputs.data, 1)\n",
        "                correct_counts = predictions.eq(labels.data.view_as(predictions))\n",
        "\n",
        "                # Convert correct_counts to float and then compute the mean\n",
        "                acc = torch.mean(correct_counts.type(torch.FloatTensor))\n",
        "\n",
        "                # Compute total accuracy in the whole batch and add to valid_acc\n",
        "                valid_acc += acc.item() * inputs.size(0)\n",
        "\n",
        "\n",
        "        # Find average training loss and training accuracy\n",
        "        avg_train_loss = train_loss / len(train_dataloader.dataset)\n",
        "        avg_train_acc = train_acc / len(train_dataloader.dataset)\n",
        "\n",
        "        # Find average validation loss and training accuracy\n",
        "        avg_test_loss = valid_loss / len(test_dataloader.dataset)\n",
        "        avg_test_acc = valid_acc / len(test_dataloader.dataset)\n",
        "\n",
        "        history.append([avg_train_loss, avg_test_loss, avg_train_acc, avg_test_acc])\n",
        "\n",
        "        epoch_end = time.time()\n",
        "\n",
        "        print(\"Epoch : {:03d}, Training: Loss: {:.4f}, Accuracy: {:.4f}%, \\n\\t\\tValidation : Loss : {:.4f}, Accuracy: {:.4f}%, Time: {:.4f}s\".format(epoch, avg_train_loss, avg_train_acc * 100, avg_test_loss, avg_test_acc * 100, epoch_end - epoch_start))\n",
        "\n",
        "        # Save if the model has best accuracy till now\n",
        "        if avg_test_acc > best_acc:\n",
        "            best_acc = avg_test_acc\n",
        "            best_model = model\n",
        "            torch.save(best_model, 'best_model.pt')\n",
        "\n",
        "    return best_model, history"
      ],
      "metadata": {
        "id": "F2B3hz_aZ0qH"
      },
      "execution_count": null,
      "outputs": []
    },
    {
      "cell_type": "code",
      "source": [
        "num_epochs = 10\n",
        "trained_model, history = train_and_validate(model, loss_fn, optimizer,\n",
        "                                          train_dataloader, test_dataloader,\n",
        "                                          num_epochs)"
      ],
      "metadata": {
        "id": "cSXayY8RZ0qH"
      },
      "execution_count": null,
      "outputs": []
    },
    {
      "cell_type": "code",
      "source": [
        "def plot_accuracy(history):\n",
        "  history = np.array(history)\n",
        "  plt.plot(history[:,2:4])\n",
        "  plt.legend(['Tr Accuracy', 'Val Accuracy'])\n",
        "  plt.xlabel('Epoch Number')\n",
        "  plt.ylabel('Accuracy')\n",
        "  plt.ylim(0,1)\n",
        "  # plt.savefig('cifar10_accuracy_curve.png')\n",
        "  plt.show()\n",
        "\n",
        "plot_accuracy(history)"
      ],
      "metadata": {
        "id": "0eC_POX0Z0qH"
      },
      "execution_count": null,
      "outputs": []
    },
    {
      "cell_type": "code",
      "execution_count": null,
      "metadata": {
        "id": "HMFmIAmFA3DA"
      },
      "outputs": [],
      "source": [
        "import torch\n",
        "from torch import nn\n",
        "\n",
        "import torchvision\n",
        "from torchvision import datasets, models\n",
        "import torchvision.transforms as transforms\n",
        "import numpy as np\n",
        "import matplotlib.pyplot as plt"
      ]
    },
    {
      "cell_type": "code",
      "execution_count": null,
      "metadata": {
        "id": "J7Hm3is9A3DF"
      },
      "outputs": [],
      "source": [
        "transform = transforms.Compose(\n",
        "    [#transforms.Resize((40,40)),\n",
        "    #  transforms.Augmix(),\n",
        "    #  transforms.CenterCrop(),\n",
        "     transforms.Resize((32,32)),\n",
        "     transforms.ToTensor(),\n",
        "     transforms.Normalize((0.5, 0.5, 0.5), (0.5, 0.5, 0.5)) ])\n",
        "\n",
        "\n",
        "train_dir = '/content/drive/MyDrive/Covid19-dataset/train'\n",
        "test_dir = '/content/drive/MyDrive/Covid19-dataset/test'\n",
        "\n",
        "train_data = datasets.ImageFolder(root=train_dir,\n",
        "                                  transform=transform)\n",
        "\n",
        "test_data = datasets.ImageFolder(root=test_dir,\n",
        "                                 transform=transform)"
      ]
    },
    {
      "cell_type": "code",
      "execution_count": null,
      "metadata": {
        "colab": {
          "base_uri": "https://localhost:8080/"
        },
        "outputId": "0a42fcc2-3c46-4cb5-f115-eaf650c3fc41",
        "id": "LhMLTCgxA3DG"
      },
      "outputs": [
        {
          "output_type": "execute_result",
          "data": {
            "text/plain": [
              "['Covid', 'Normal', 'Viral Pneumonia']"
            ]
          },
          "metadata": {},
          "execution_count": 152
        }
      ],
      "source": [
        "img, label = train_data[0]\n",
        "train_data.classes"
      ]
    },
    {
      "cell_type": "code",
      "execution_count": null,
      "metadata": {
        "id": "aUhJaRtxA3DG"
      },
      "outputs": [],
      "source": [
        "from torch.utils.data import DataLoader\n",
        "\n",
        "train_dataloader = DataLoader(train_data, batch_size=8, shuffle=True) # change batch_size to reduce memory error\n",
        "\n",
        "test_dataloader = DataLoader(test_data, batch_size=8, shuffle=False) #turn our images into batches"
      ]
    },
    {
      "cell_type": "code",
      "execution_count": null,
      "metadata": {
        "id": "i10ECqz8A3DG"
      },
      "outputs": [],
      "source": [
        "train_imgBatch, train_labelBatch = next(iter(train_dataloader))"
      ]
    },
    {
      "cell_type": "code",
      "source": [
        "train_imgBatch.shape"
      ],
      "metadata": {
        "colab": {
          "base_uri": "https://localhost:8080/"
        },
        "outputId": "214167d0-8152-46bd-89bb-6efb6fb0ceca",
        "id": "aU7-lg2yA3DG"
      },
      "execution_count": null,
      "outputs": [
        {
          "output_type": "execute_result",
          "data": {
            "text/plain": [
              "torch.Size([8, 3, 32, 32])"
            ]
          },
          "metadata": {},
          "execution_count": 155
        }
      ]
    },
    {
      "cell_type": "code",
      "source": [
        "flatten_layer = nn.Flatten()\n",
        "input = flatten_layer(train_imgBatch)\n",
        "input.shape"
      ],
      "metadata": {
        "colab": {
          "base_uri": "https://localhost:8080/"
        },
        "outputId": "cc795ba0-6eea-4712-d1ae-efb2d16a3f34",
        "id": "P2IAI-YAA3DG"
      },
      "execution_count": null,
      "outputs": [
        {
          "output_type": "execute_result",
          "data": {
            "text/plain": [
              "torch.Size([8, 3072])"
            ]
          },
          "metadata": {},
          "execution_count": 156
        }
      ]
    },
    {
      "cell_type": "code",
      "source": [
        "class CNNModel(nn.Module):\n",
        "    def __init__(self):\n",
        "        super(CNNModel, self).__init__()\n",
        "\n",
        "        # Convolutional Layers\n",
        "        self.conv1 = nn.Conv2d(in_channels=3, out_channels=6, kernel_size=5)  # C1\n",
        "        self.batchnorm1 = nn.BatchNorm2d(6)\n",
        "        self.subsample1 = nn.MaxPool2d(kernel_size=2, stride=2)  # S2\n",
        "        self.dropout1 = nn.Dropout(0.2)  # Dropout after subsample1\n",
        "        self.conv2 = nn.Conv2d(in_channels=6, out_channels=16, kernel_size=5)  # C3\n",
        "        self.batchnorm2 = nn.BatchNorm2d(16)\n",
        "        self.subsample2 = nn.MaxPool2d(kernel_size=2, stride=2)  # S4\n",
        "        self.dropout2 = nn.Dropout(0.2)  # Dropout after subsample2\n",
        "\n",
        "        # Fully Connected Layers\n",
        "        self.fc1 = nn.Linear(16 * 5 * 5, 120)  # F5\n",
        "        self.batchnorm3 = nn.BatchNorm1d(120)\n",
        "        self.dropout3 = nn.Dropout(0.5)  # Dropout after fc1\n",
        "        self.fc2 = nn.Linear(120, 10)  # F6\n",
        "\n",
        "        # Activation Function\n",
        "        self.relu = nn.ReLU()\n",
        "\n",
        "    def forward(self, x):\n",
        "        # Convolutional Layers\n",
        "        x = self.relu(self.conv1(x))\n",
        "        x = self.batchnorm1(x)\n",
        "        x = self.subsample1(x)\n",
        "        x = self.dropout1(x)\n",
        "        x = self.relu(self.conv2(x))\n",
        "        x = self.batchnorm2(x)\n",
        "        x = self.subsample2(x)\n",
        "        x = self.dropout2(x)\n",
        "\n",
        "        # Flatten before Fully Connected Layers\n",
        "        x = x.view(-1, 16 * 5 * 5)\n",
        "\n",
        "        # Fully Connected Layers\n",
        "        x = self.relu(self.fc1(x))\n",
        "        x = self.batchnorm3(x)\n",
        "        x = self.dropout3(x)\n",
        "        x = self.fc2(x)\n",
        "\n",
        "        return x\n",
        "\n",
        "\n",
        "#9 neurons altogether\n",
        "model = CNNModel()"
      ],
      "metadata": {
        "id": "LsizL1k6A3DH"
      },
      "execution_count": null,
      "outputs": []
    },
    {
      "cell_type": "code",
      "source": [
        "# model_pretrained = models.vgg16(pretrained = True)"
      ],
      "metadata": {
        "id": "5GcIbcGEA3DH"
      },
      "execution_count": null,
      "outputs": []
    },
    {
      "cell_type": "code",
      "source": [
        "# model_pretrained"
      ],
      "metadata": {
        "id": "U-sBhkXGA3DH"
      },
      "execution_count": null,
      "outputs": []
    },
    {
      "cell_type": "code",
      "source": [
        "# num_ftrs = model_pretrained.classifier[6].in_features\n",
        "# model_pretrained.classifier[6] = nn.Linear(num_ftrs, 3)\n",
        "# model_pretrained"
      ],
      "metadata": {
        "id": "RCbcleWCA3DH"
      },
      "execution_count": null,
      "outputs": []
    },
    {
      "cell_type": "code",
      "source": [
        "model = model"
      ],
      "metadata": {
        "id": "BH3yG_lAA3DH"
      },
      "execution_count": null,
      "outputs": []
    },
    {
      "cell_type": "code",
      "source": [
        "\n",
        "# loss and optimizer\n",
        "\n",
        "# cross-entropy loss\n",
        "\n",
        "loss_fn = nn.CrossEntropyLoss()\n",
        "optimizer = torch.optim.SGD(model.parameters(), lr=0.001, momentum=0.9)\n",
        "\n",
        "# 3. move the model to GPU\n",
        "device = torch.device('cuda:0' if torch.cuda.is_available() else 'cpu')\n",
        "model.to(device)"
      ],
      "metadata": {
        "colab": {
          "base_uri": "https://localhost:8080/"
        },
        "outputId": "18377d6c-153b-4a0f-c024-d5296e0dcc05",
        "id": "5wnhMVjoA3DH"
      },
      "execution_count": null,
      "outputs": [
        {
          "output_type": "execute_result",
          "data": {
            "text/plain": [
              "CNNModel(\n",
              "  (conv1): Conv2d(3, 6, kernel_size=(5, 5), stride=(1, 1))\n",
              "  (batchnorm1): BatchNorm2d(6, eps=1e-05, momentum=0.1, affine=True, track_running_stats=True)\n",
              "  (subsample1): MaxPool2d(kernel_size=2, stride=2, padding=0, dilation=1, ceil_mode=False)\n",
              "  (dropout1): Dropout(p=0.2, inplace=False)\n",
              "  (conv2): Conv2d(6, 16, kernel_size=(5, 5), stride=(1, 1))\n",
              "  (batchnorm2): BatchNorm2d(16, eps=1e-05, momentum=0.1, affine=True, track_running_stats=True)\n",
              "  (subsample2): MaxPool2d(kernel_size=2, stride=2, padding=0, dilation=1, ceil_mode=False)\n",
              "  (dropout2): Dropout(p=0.2, inplace=False)\n",
              "  (fc1): Linear(in_features=400, out_features=120, bias=True)\n",
              "  (batchnorm3): BatchNorm1d(120, eps=1e-05, momentum=0.1, affine=True, track_running_stats=True)\n",
              "  (dropout3): Dropout(p=0.5, inplace=False)\n",
              "  (fc2): Linear(in_features=120, out_features=10, bias=True)\n",
              "  (relu): ReLU()\n",
              ")"
            ]
          },
          "metadata": {},
          "execution_count": 162
        }
      ]
    },
    {
      "cell_type": "code",
      "source": [
        "import time\n",
        "from tqdm.auto import tqdm\n",
        "\n",
        "def train_and_validate(model, loss_criterion, optimizer, train_dataloader, test_dataloader, epochs=25, device='cuda'):\n",
        "    '''\n",
        "    Function to train and validate\n",
        "    Parameters\n",
        "        :param model: Model to train and validate\n",
        "        :param loss_criterion: Loss Criterion to minimize\n",
        "        :param optimizer: Optimizer for computing gradients\n",
        "        :param train_dataloader: DataLoader for training data\n",
        "        :param test_dataloader: DataLoader for test/validation data\n",
        "        :param epochs: Number of epochs (default=25)\n",
        "        :param device: Device to perform computations ('cuda' or 'cpu')\n",
        "\n",
        "    Returns\n",
        "        model: Trained Model with best validation accuracy\n",
        "        history: (dict object): Having training loss, accuracy and validation loss, accuracy\n",
        "    '''\n",
        "\n",
        "    start = time.time()\n",
        "    history = []\n",
        "    best_acc = 0.0\n",
        "\n",
        "    for epoch in tqdm(range(epochs)):\n",
        "        epoch_start = time.time()\n",
        "        print(\"Epoch: {}/{}\".format(epoch+1, epochs))\n",
        "\n",
        "        model.train()\n",
        "\n",
        "        train_loss = 0.0\n",
        "        train_acc = 0.0\n",
        "\n",
        "        valid_loss = 0.0\n",
        "        valid_acc = 0.0\n",
        "\n",
        "        for i, (inputs, labels) in enumerate(train_dataloader):\n",
        "\n",
        "            inputs = inputs.to(device)\n",
        "            labels = labels.to(device)\n",
        "\n",
        "            # Clean existing gradients\n",
        "            optimizer.zero_grad()\n",
        "\n",
        "            # Forward pass - compute outputs on input data using the model\n",
        "            outputs = model(inputs)\n",
        "\n",
        "            # Compute loss\n",
        "            loss = loss_criterion(outputs, labels)\n",
        "\n",
        "            # Backpropagate the gradients\n",
        "            loss.backward()\n",
        "\n",
        "            # Update the parameters\n",
        "            optimizer.step()\n",
        "\n",
        "            # Compute the total loss for the batch and add it to train_loss\n",
        "            train_loss += loss.item() * inputs.size(0)\n",
        "\n",
        "            # Compute the accuracy\n",
        "            ret, predictions = torch.max(outputs.data, 1)\n",
        "            correct_counts = predictions.eq(labels.data.view_as(predictions))\n",
        "\n",
        "            # Convert correct_counts to float and then compute the mean\n",
        "            acc = torch.mean(correct_counts.type(torch.FloatTensor))\n",
        "\n",
        "            # Compute total accuracy in the whole batch and add to train_acc\n",
        "            train_acc += acc.item() * inputs.size(0)\n",
        "\n",
        "        # Validation - No gradient tracking needed\n",
        "        with torch.no_grad():\n",
        "\n",
        "            model.eval()\n",
        "\n",
        "            # Validation loop\n",
        "            for j, (inputs, labels) in enumerate(test_dataloader):\n",
        "                inputs = inputs.to(device)\n",
        "                labels = labels.to(device)\n",
        "\n",
        "                # Forward pass - compute outputs on input data using the model\n",
        "                outputs = model(inputs)\n",
        "\n",
        "                # Compute loss\n",
        "                loss = loss_criterion(outputs, labels)\n",
        "\n",
        "                # Compute the total loss for the batch and add it to valid_loss\n",
        "                valid_loss += loss.item() * inputs.size(0)\n",
        "\n",
        "                # Calculate validation accuracy\n",
        "                ret, predictions = torch.max(outputs.data, 1)\n",
        "                correct_counts = predictions.eq(labels.data.view_as(predictions))\n",
        "\n",
        "                # Convert correct_counts to float and then compute the mean\n",
        "                acc = torch.mean(correct_counts.type(torch.FloatTensor))\n",
        "\n",
        "                # Compute total accuracy in the whole batch and add to valid_acc\n",
        "                valid_acc += acc.item() * inputs.size(0)\n",
        "\n",
        "\n",
        "        # Find average training loss and training accuracy\n",
        "        avg_train_loss = train_loss / len(train_dataloader.dataset)\n",
        "        avg_train_acc = train_acc / len(train_dataloader.dataset)\n",
        "\n",
        "        # Find average validation loss and training accuracy\n",
        "        avg_test_loss = valid_loss / len(test_dataloader.dataset)\n",
        "        avg_test_acc = valid_acc / len(test_dataloader.dataset)\n",
        "\n",
        "        history.append([avg_train_loss, avg_test_loss, avg_train_acc, avg_test_acc])\n",
        "\n",
        "        epoch_end = time.time()\n",
        "\n",
        "        print(\"Epoch : {:03d}, Training: Loss: {:.4f}, Accuracy: {:.4f}%, \\n\\t\\tValidation : Loss : {:.4f}, Accuracy: {:.4f}%, Time: {:.4f}s\".format(epoch, avg_train_loss, avg_train_acc * 100, avg_test_loss, avg_test_acc * 100, epoch_end - epoch_start))\n",
        "\n",
        "        # Save if the model has best accuracy till now\n",
        "        if avg_test_acc > best_acc:\n",
        "            best_acc = avg_test_acc\n",
        "            best_model = model\n",
        "            torch.save(best_model, 'best_model.pt')\n",
        "\n",
        "    return best_model, history"
      ],
      "metadata": {
        "id": "uJYwPmx5A3DH"
      },
      "execution_count": null,
      "outputs": []
    },
    {
      "cell_type": "code",
      "source": [
        "num_epochs = 10\n",
        "trained_model, history = train_and_validate(model, loss_fn, optimizer,\n",
        "                                          train_dataloader, test_dataloader,\n",
        "                                          num_epochs)"
      ],
      "metadata": {
        "colab": {
          "base_uri": "https://localhost:8080/",
          "height": 603,
          "referenced_widgets": [
            "4ce9cc9cf5f34e86b658f4c52b5cb778",
            "a66cadc40ddc40089f77258bc0f2d612",
            "b55a67b24b274344b3ea458cc692b2cd",
            "ca684991e4334e12a3691e74dc9b35a6",
            "276b313203a74ca48e5e56abfd9ceccb",
            "5477d9da029c48ec9f60a1f763182acc",
            "5d6e6293700e4a2ca9b67bb29baba7d7",
            "f761918eaae1418d955813b682de6cd2",
            "bb13b73da7e14092988e2c9db8df5e31",
            "6153583c8c5f4283898cba917f4a0987",
            "334ba127ba69464ba15e9a182c18698a"
          ]
        },
        "outputId": "611f557e-462e-4685-d6e3-ce4e68906787",
        "id": "fYaQOr_GA3DH"
      },
      "execution_count": null,
      "outputs": [
        {
          "output_type": "display_data",
          "data": {
            "text/plain": [
              "  0%|          | 0/10 [00:00<?, ?it/s]"
            ],
            "application/vnd.jupyter.widget-view+json": {
              "version_major": 2,
              "version_minor": 0,
              "model_id": "4ce9cc9cf5f34e86b658f4c52b5cb778"
            }
          },
          "metadata": {}
        },
        {
          "output_type": "stream",
          "name": "stdout",
          "text": [
            "Epoch: 1/10\n",
            "Epoch : 000, Training: Loss: 2.0079, Accuracy: 36.2550%, \n",
            "\t\tValidation : Loss : 1.2302, Accuracy: 80.3030%, Time: 10.8697s\n",
            "Epoch: 2/10\n",
            "Epoch : 001, Training: Loss: 1.0660, Accuracy: 74.9004%, \n",
            "\t\tValidation : Loss : 0.5994, Accuracy: 86.3636%, Time: 11.0201s\n",
            "Epoch: 3/10\n",
            "Epoch : 002, Training: Loss: 0.8380, Accuracy: 80.4781%, \n",
            "\t\tValidation : Loss : 0.6481, Accuracy: 78.7879%, Time: 11.0448s\n",
            "Epoch: 4/10\n",
            "Epoch : 003, Training: Loss: 0.5024, Accuracy: 87.6494%, \n",
            "\t\tValidation : Loss : 0.5514, Accuracy: 83.3333%, Time: 9.6480s\n",
            "Epoch: 5/10\n",
            "Epoch : 004, Training: Loss: 0.5037, Accuracy: 86.0558%, \n",
            "\t\tValidation : Loss : 0.4986, Accuracy: 83.3333%, Time: 11.0680s\n",
            "Epoch: 6/10\n",
            "Epoch : 005, Training: Loss: 0.5080, Accuracy: 86.0558%, \n",
            "\t\tValidation : Loss : 0.6423, Accuracy: 77.2727%, Time: 11.1777s\n",
            "Epoch: 7/10\n",
            "Epoch : 006, Training: Loss: 0.5222, Accuracy: 87.2510%, \n",
            "\t\tValidation : Loss : 0.4470, Accuracy: 86.3636%, Time: 10.9837s\n",
            "Epoch: 8/10\n",
            "Epoch : 007, Training: Loss: 0.3793, Accuracy: 90.4382%, \n",
            "\t\tValidation : Loss : 0.4650, Accuracy: 83.3333%, Time: 9.6529s\n",
            "Epoch: 9/10\n",
            "Epoch : 008, Training: Loss: 0.5019, Accuracy: 86.4542%, \n",
            "\t\tValidation : Loss : 0.4533, Accuracy: 83.3333%, Time: 11.0289s\n",
            "Epoch: 10/10\n",
            "Epoch : 009, Training: Loss: 0.7408, Accuracy: 81.2749%, \n",
            "\t\tValidation : Loss : 0.4877, Accuracy: 80.3030%, Time: 11.0397s\n"
          ]
        }
      ]
    },
    {
      "cell_type": "code",
      "source": [
        "def plot_accuracy(history):\n",
        "  history = np.array(history)\n",
        "  plt.plot(history[:,2:4])\n",
        "  plt.legend(['Tr Accuracy', 'Val Accuracy'])\n",
        "  plt.xlabel('Epoch Number')\n",
        "  plt.ylabel('Accuracy')\n",
        "  plt.ylim(0,1)\n",
        "  # plt.savefig('cifar10_accuracy_curve.png')\n",
        "  plt.show()\n",
        "\n",
        "plot_accuracy(history)"
      ],
      "metadata": {
        "colab": {
          "base_uri": "https://localhost:8080/",
          "height": 455
        },
        "outputId": "6b34a633-24f8-4be1-ffc2-3667af1174a2",
        "id": "jbtHBZdSA3DI"
      },
      "execution_count": null,
      "outputs": [
        {
          "output_type": "display_data",
          "data": {
            "text/plain": [
              "<Figure size 640x480 with 1 Axes>"
            ],
            "image/png": "[encoded data removed]"
          },
          "metadata": {}
        }
      ]
    },
    {
      "cell_type": "markdown",
      "metadata": {
        "id": "z1Zjsjxq8zuq"
      },
      "source": [
        "c) Replace your defined ConvNet in b) with a pre-trained model. Then, proceed with a transfer learning and finetune the model for the COVID-19 dataset. **(10 marks)**"
      ]
    },
    {
      "cell_type": "code",
      "execution_count": null,
      "metadata": {
        "id": "D4joDd5u8zur"
      },
      "outputs": [],
      "source": [
        "###############################################\n",
        "###############YOUR CODES HERE ################\n",
        "###############################################"
      ]
    },
    {
      "cell_type": "code",
      "execution_count": null,
      "metadata": {
        "id": "97GfoNMaBwC0"
      },
      "outputs": [],
      "source": [
        "import torch\n",
        "from torch import nn\n",
        "\n",
        "import torchvision\n",
        "from torchvision import datasets, models\n",
        "import torchvision.transforms as transforms\n",
        "import numpy as np\n",
        "import matplotlib.pyplot as plt"
      ]
    },
    {
      "cell_type": "code",
      "execution_count": null,
      "metadata": {
        "id": "RmmCbTUwBwC6"
      },
      "outputs": [],
      "source": [
        "transform = transforms.Compose(\n",
        "    [#transforms.Resize((40,40)),\n",
        "    #  transforms.Augmix(),\n",
        "    #  transforms.CenterCrop(),\n",
        "     transforms.Resize((32,32)),\n",
        "     transforms.ToTensor(),\n",
        "     transforms.Normalize((0.5, 0.5, 0.5), (0.5, 0.5, 0.5)) ])\n",
        "\n",
        "\n",
        "train_dir = '/content/drive/MyDrive/Covid19-dataset/train'\n",
        "test_dir = '/content/drive/MyDrive/Covid19-dataset/test'\n",
        "\n",
        "train_data = datasets.ImageFolder(root=train_dir,\n",
        "                                  transform=transform)\n",
        "\n",
        "test_data = datasets.ImageFolder(root=test_dir,\n",
        "                                 transform=transform)"
      ]
    },
    {
      "cell_type": "code",
      "execution_count": null,
      "metadata": {
        "colab": {
          "base_uri": "https://localhost:8080/"
        },
        "outputId": "cdfb6c23-6eda-4034-f8eb-2d0d987ce6b6",
        "id": "jZCWXof6BwC6"
      },
      "outputs": [
        {
          "output_type": "execute_result",
          "data": {
            "text/plain": [
              "['Covid', 'Normal', 'Viral Pneumonia']"
            ]
          },
          "metadata": {},
          "execution_count": 168
        }
      ],
      "source": [
        "img, label = train_data[0]\n",
        "train_data.classes"
      ]
    },
    {
      "cell_type": "code",
      "execution_count": null,
      "metadata": {
        "id": "yRVKnU56BwC7"
      },
      "outputs": [],
      "source": [
        "from torch.utils.data import DataLoader\n",
        "\n",
        "train_dataloader = DataLoader(train_data, batch_size=8, shuffle=True) # change batch_size to reduce memory error\n",
        "\n",
        "test_dataloader = DataLoader(test_data, batch_size=8, shuffle=False) #turn our images into batches"
      ]
    },
    {
      "cell_type": "code",
      "execution_count": null,
      "metadata": {
        "id": "9ED-8EcxBwC8"
      },
      "outputs": [],
      "source": [
        "train_imgBatch, train_labelBatch = next(iter(train_dataloader))"
      ]
    },
    {
      "cell_type": "code",
      "source": [
        "train_imgBatch.shape"
      ],
      "metadata": {
        "colab": {
          "base_uri": "https://localhost:8080/"
        },
        "outputId": "96d88ef4-a477-4a60-90f1-b6f71e020e1c",
        "id": "MCvdZOEsBwC8"
      },
      "execution_count": null,
      "outputs": [
        {
          "output_type": "execute_result",
          "data": {
            "text/plain": [
              "torch.Size([8, 3, 32, 32])"
            ]
          },
          "metadata": {},
          "execution_count": 171
        }
      ]
    },
    {
      "cell_type": "code",
      "source": [
        "flatten_layer = nn.Flatten()\n",
        "input = flatten_layer(train_imgBatch)\n",
        "input.shape"
      ],
      "metadata": {
        "colab": {
          "base_uri": "https://localhost:8080/"
        },
        "outputId": "cc6ae0fa-933a-4655-f0f3-e2de5f5bacca",
        "id": "DKexmCm9BwC8"
      },
      "execution_count": null,
      "outputs": [
        {
          "output_type": "execute_result",
          "data": {
            "text/plain": [
              "torch.Size([8, 3072])"
            ]
          },
          "metadata": {},
          "execution_count": 172
        }
      ]
    },
    {
      "cell_type": "code",
      "source": [
        "model_pretrained = models.vgg16(pretrained = True)"
      ],
      "metadata": {
        "colab": {
          "base_uri": "https://localhost:8080/"
        },
        "outputId": "c179e763-eb08-42ab-b278-29ebe6ab0be2",
        "id": "NkeqibU4BwC8"
      },
      "execution_count": null,
      "outputs": [
        {
          "output_type": "stream",
          "name": "stderr",
          "text": [
            "/usr/local/lib/python3.10/dist-packages/torchvision/models/_utils.py:208: UserWarning: The parameter 'pretrained' is deprecated since 0.13 and may be removed in the future, please use 'weights' instead.\n",
            "  warnings.warn(\n",
            "/usr/local/lib/python3.10/dist-packages/torchvision/models/_utils.py:223: UserWarning: Arguments other than a weight enum or `None` for 'weights' are deprecated since 0.13 and may be removed in the future. The current behavior is equivalent to passing `weights=VGG16_Weights.IMAGENET1K_V1`. You can also use `weights=VGG16_Weights.DEFAULT` to get the most up-to-date weights.\n",
            "  warnings.warn(msg)\n",
            "Downloading: \"https://download.pytorch.org/models/vgg16-397923af.pth\" to /root/.cache/torch/hub/checkpoints/vgg16-397923af.pth\n",
            "100%|██████████| 528M/528M [00:06<00:00, 90.5MB/s]\n"
          ]
        }
      ]
    },
    {
      "cell_type": "code",
      "source": [
        "model_pretrained"
      ],
      "metadata": {
        "colab": {
          "base_uri": "https://localhost:8080/"
        },
        "outputId": "7824ecf1-50ac-4e1e-ef66-56c6cd74ce56",
        "id": "RUHzPsKRBwC8"
      },
      "execution_count": null,
      "outputs": [
        {
          "output_type": "execute_result",
          "data": {
            "text/plain": [
              "VGG(\n",
              "  (features): Sequential(\n",
              "    (0): Conv2d(3, 64, kernel_size=(3, 3), stride=(1, 1), padding=(1, 1))\n",
              "    (1): ReLU(inplace=True)\n",
              "    (2): Conv2d(64, 64, kernel_size=(3, 3), stride=(1, 1), padding=(1, 1))\n",
              "    (3): ReLU(inplace=True)\n",
              "    (4): MaxPool2d(kernel_size=2, stride=2, padding=0, dilation=1, ceil_mode=False)\n",
              "    (5): Conv2d(64, 128, kernel_size=(3, 3), stride=(1, 1), padding=(1, 1))\n",
              "    (6): ReLU(inplace=True)\n",
              "    (7): Conv2d(128, 128, kernel_size=(3, 3), stride=(1, 1), padding=(1, 1))\n",
              "    (8): ReLU(inplace=True)\n",
              "    (9): MaxPool2d(kernel_size=2, stride=2, padding=0, dilation=1, ceil_mode=False)\n",
              "    (10): Conv2d(128, 256, kernel_size=(3, 3), stride=(1, 1), padding=(1, 1))\n",
              "    (11): ReLU(inplace=True)\n",
              "    (12): Conv2d(256, 256, kernel_size=(3, 3), stride=(1, 1), padding=(1, 1))\n",
              "    (13): ReLU(inplace=True)\n",
              "    (14): Conv2d(256, 256, kernel_size=(3, 3), stride=(1, 1), padding=(1, 1))\n",
              "    (15): ReLU(inplace=True)\n",
              "    (16): MaxPool2d(kernel_size=2, stride=2, padding=0, dilation=1, ceil_mode=False)\n",
              "    (17): Conv2d(256, 512, kernel_size=(3, 3), stride=(1, 1), padding=(1, 1))\n",
              "    (18): ReLU(inplace=True)\n",
              "    (19): Conv2d(512, 512, kernel_size=(3, 3), stride=(1, 1), padding=(1, 1))\n",
              "    (20): ReLU(inplace=True)\n",
              "    (21): Conv2d(512, 512, kernel_size=(3, 3), stride=(1, 1), padding=(1, 1))\n",
              "    (22): ReLU(inplace=True)\n",
              "    (23): MaxPool2d(kernel_size=2, stride=2, padding=0, dilation=1, ceil_mode=False)\n",
              "    (24): Conv2d(512, 512, kernel_size=(3, 3), stride=(1, 1), padding=(1, 1))\n",
              "    (25): ReLU(inplace=True)\n",
              "    (26): Conv2d(512, 512, kernel_size=(3, 3), stride=(1, 1), padding=(1, 1))\n",
              "    (27): ReLU(inplace=True)\n",
              "    (28): Conv2d(512, 512, kernel_size=(3, 3), stride=(1, 1), padding=(1, 1))\n",
              "    (29): ReLU(inplace=True)\n",
              "    (30): MaxPool2d(kernel_size=2, stride=2, padding=0, dilation=1, ceil_mode=False)\n",
              "  )\n",
              "  (avgpool): AdaptiveAvgPool2d(output_size=(7, 7))\n",
              "  (classifier): Sequential(\n",
              "    (0): Linear(in_features=25088, out_features=4096, bias=True)\n",
              "    (1): ReLU(inplace=True)\n",
              "    (2): Dropout(p=0.5, inplace=False)\n",
              "    (3): Linear(in_features=4096, out_features=4096, bias=True)\n",
              "    (4): ReLU(inplace=True)\n",
              "    (5): Dropout(p=0.5, inplace=False)\n",
              "    (6): Linear(in_features=4096, out_features=1000, bias=True)\n",
              "  )\n",
              ")"
            ]
          },
          "metadata": {},
          "execution_count": 175
        }
      ]
    },
    {
      "cell_type": "code",
      "source": [
        "num_ftrs = model_pretrained.classifier[6].in_features\n",
        "model_pretrained.classifier[6] = nn.Linear(num_ftrs, 3)\n",
        "model_pretrained"
      ],
      "metadata": {
        "colab": {
          "base_uri": "https://localhost:8080/"
        },
        "outputId": "cffe3b54-eb35-4415-ad59-3484e782876a",
        "id": "-rJqJUL7BwC8"
      },
      "execution_count": null,
      "outputs": [
        {
          "output_type": "execute_result",
          "data": {
            "text/plain": [
              "VGG(\n",
              "  (features): Sequential(\n",
              "    (0): Conv2d(3, 64, kernel_size=(3, 3), stride=(1, 1), padding=(1, 1))\n",
              "    (1): ReLU(inplace=True)\n",
              "    (2): Conv2d(64, 64, kernel_size=(3, 3), stride=(1, 1), padding=(1, 1))\n",
              "    (3): ReLU(inplace=True)\n",
              "    (4): MaxPool2d(kernel_size=2, stride=2, padding=0, dilation=1, ceil_mode=False)\n",
              "    (5): Conv2d(64, 128, kernel_size=(3, 3), stride=(1, 1), padding=(1, 1))\n",
              "    (6): ReLU(inplace=True)\n",
              "    (7): Conv2d(128, 128, kernel_size=(3, 3), stride=(1, 1), padding=(1, 1))\n",
              "    (8): ReLU(inplace=True)\n",
              "    (9): MaxPool2d(kernel_size=2, stride=2, padding=0, dilation=1, ceil_mode=False)\n",
              "    (10): Conv2d(128, 256, kernel_size=(3, 3), stride=(1, 1), padding=(1, 1))\n",
              "    (11): ReLU(inplace=True)\n",
              "    (12): Conv2d(256, 256, kernel_size=(3, 3), stride=(1, 1), padding=(1, 1))\n",
              "    (13): ReLU(inplace=True)\n",
              "    (14): Conv2d(256, 256, kernel_size=(3, 3), stride=(1, 1), padding=(1, 1))\n",
              "    (15): ReLU(inplace=True)\n",
              "    (16): MaxPool2d(kernel_size=2, stride=2, padding=0, dilation=1, ceil_mode=False)\n",
              "    (17): Conv2d(256, 512, kernel_size=(3, 3), stride=(1, 1), padding=(1, 1))\n",
              "    (18): ReLU(inplace=True)\n",
              "    (19): Conv2d(512, 512, kernel_size=(3, 3), stride=(1, 1), padding=(1, 1))\n",
              "    (20): ReLU(inplace=True)\n",
              "    (21): Conv2d(512, 512, kernel_size=(3, 3), stride=(1, 1), padding=(1, 1))\n",
              "    (22): ReLU(inplace=True)\n",
              "    (23): MaxPool2d(kernel_size=2, stride=2, padding=0, dilation=1, ceil_mode=False)\n",
              "    (24): Conv2d(512, 512, kernel_size=(3, 3), stride=(1, 1), padding=(1, 1))\n",
              "    (25): ReLU(inplace=True)\n",
              "    (26): Conv2d(512, 512, kernel_size=(3, 3), stride=(1, 1), padding=(1, 1))\n",
              "    (27): ReLU(inplace=True)\n",
              "    (28): Conv2d(512, 512, kernel_size=(3, 3), stride=(1, 1), padding=(1, 1))\n",
              "    (29): ReLU(inplace=True)\n",
              "    (30): MaxPool2d(kernel_size=2, stride=2, padding=0, dilation=1, ceil_mode=False)\n",
              "  )\n",
              "  (avgpool): AdaptiveAvgPool2d(output_size=(7, 7))\n",
              "  (classifier): Sequential(\n",
              "    (0): Linear(in_features=25088, out_features=4096, bias=True)\n",
              "    (1): ReLU(inplace=True)\n",
              "    (2): Dropout(p=0.5, inplace=False)\n",
              "    (3): Linear(in_features=4096, out_features=4096, bias=True)\n",
              "    (4): ReLU(inplace=True)\n",
              "    (5): Dropout(p=0.5, inplace=False)\n",
              "    (6): Linear(in_features=4096, out_features=3, bias=True)\n",
              "  )\n",
              ")"
            ]
          },
          "metadata": {},
          "execution_count": 176
        }
      ]
    },
    {
      "cell_type": "code",
      "source": [
        "model = model_pretrained"
      ],
      "metadata": {
        "id": "PhUF0lfuBwC9"
      },
      "execution_count": null,
      "outputs": []
    },
    {
      "cell_type": "code",
      "source": [
        "\n",
        "# loss and optimizer\n",
        "\n",
        "# cross-entropy loss\n",
        "\n",
        "loss_fn = nn.CrossEntropyLoss()\n",
        "optimizer = torch.optim.SGD(model.parameters(), lr=0.001, momentum=0.9)\n",
        "\n",
        "# 3. move the model to GPU\n",
        "device = torch.device('cuda:0' if torch.cuda.is_available() else 'cpu')\n",
        "model.to(device)"
      ],
      "metadata": {
        "id": "75PYfyHRBwC9"
      },
      "execution_count": null,
      "outputs": []
    },
    {
      "cell_type": "code",
      "source": [
        "import time\n",
        "from tqdm.auto import tqdm\n",
        "\n",
        "def train_and_validate(model, loss_criterion, optimizer, train_dataloader, test_dataloader, epochs=25, device='cuda'):\n",
        "    '''\n",
        "    Function to train and validate\n",
        "    Parameters\n",
        "        :param model: Model to train and validate\n",
        "        :param loss_criterion: Loss Criterion to minimize\n",
        "        :param optimizer: Optimizer for computing gradients\n",
        "        :param train_dataloader: DataLoader for training data\n",
        "        :param test_dataloader: DataLoader for test/validation data\n",
        "        :param epochs: Number of epochs (default=25)\n",
        "        :param device: Device to perform computations ('cuda' or 'cpu')\n",
        "\n",
        "    Returns\n",
        "        model: Trained Model with best validation accuracy\n",
        "        history: (dict object): Having training loss, accuracy and validation loss, accuracy\n",
        "    '''\n",
        "\n",
        "    start = time.time()\n",
        "    history = []\n",
        "    best_acc = 0.0\n",
        "\n",
        "    for epoch in tqdm(range(epochs)):\n",
        "        epoch_start = time.time()\n",
        "        print(\"Epoch: {}/{}\".format(epoch+1, epochs))\n",
        "\n",
        "        model.train()\n",
        "\n",
        "        train_loss = 0.0\n",
        "        train_acc = 0.0\n",
        "\n",
        "        valid_loss = 0.0\n",
        "        valid_acc = 0.0\n",
        "\n",
        "        for i, (inputs, labels) in enumerate(train_dataloader):\n",
        "\n",
        "            inputs = inputs.to(device)\n",
        "            labels = labels.to(device)\n",
        "\n",
        "            # Clean existing gradients\n",
        "            optimizer.zero_grad()\n",
        "\n",
        "            # Forward pass - compute outputs on input data using the model\n",
        "            outputs = model(inputs)\n",
        "\n",
        "            # Compute loss\n",
        "            loss = loss_criterion(outputs, labels)\n",
        "\n",
        "            # Backpropagate the gradients\n",
        "            loss.backward()\n",
        "\n",
        "            # Update the parameters\n",
        "            optimizer.step()\n",
        "\n",
        "            # Compute the total loss for the batch and add it to train_loss\n",
        "            train_loss += loss.item() * inputs.size(0)\n",
        "\n",
        "            # Compute the accuracy\n",
        "            ret, predictions = torch.max(outputs.data, 1)\n",
        "            correct_counts = predictions.eq(labels.data.view_as(predictions))\n",
        "\n",
        "            # Convert correct_counts to float and then compute the mean\n",
        "            acc = torch.mean(correct_counts.type(torch.FloatTensor))\n",
        "\n",
        "            # Compute total accuracy in the whole batch and add to train_acc\n",
        "            train_acc += acc.item() * inputs.size(0)\n",
        "\n",
        "        # Validation - No gradient tracking needed\n",
        "        with torch.no_grad():\n",
        "\n",
        "            model.eval()\n",
        "\n",
        "            # Validation loop\n",
        "            for j, (inputs, labels) in enumerate(test_dataloader):\n",
        "                inputs = inputs.to(device)\n",
        "                labels = labels.to(device)\n",
        "\n",
        "                # Forward pass - compute outputs on input data using the model\n",
        "                outputs = model(inputs)\n",
        "\n",
        "                # Compute loss\n",
        "                loss = loss_criterion(outputs, labels)\n",
        "\n",
        "                # Compute the total loss for the batch and add it to valid_loss\n",
        "                valid_loss += loss.item() * inputs.size(0)\n",
        "\n",
        "                # Calculate validation accuracy\n",
        "                ret, predictions = torch.max(outputs.data, 1)\n",
        "                correct_counts = predictions.eq(labels.data.view_as(predictions))\n",
        "\n",
        "                # Convert correct_counts to float and then compute the mean\n",
        "                acc = torch.mean(correct_counts.type(torch.FloatTensor))\n",
        "\n",
        "                # Compute total accuracy in the whole batch and add to valid_acc\n",
        "                valid_acc += acc.item() * inputs.size(0)\n",
        "\n",
        "\n",
        "        # Find average training loss and training accuracy\n",
        "        avg_train_loss = train_loss / len(train_dataloader.dataset)\n",
        "        avg_train_acc = train_acc / len(train_dataloader.dataset)\n",
        "\n",
        "        # Find average validation loss and training accuracy\n",
        "        avg_test_loss = valid_loss / len(test_dataloader.dataset)\n",
        "        avg_test_acc = valid_acc / len(test_dataloader.dataset)\n",
        "\n",
        "        history.append([avg_train_loss, avg_test_loss, avg_train_acc, avg_test_acc])\n",
        "\n",
        "        epoch_end = time.time()\n",
        "\n",
        "        print(\"Epoch : {:03d}, Training: Loss: {:.4f}, Accuracy: {:.4f}%, \\n\\t\\tValidation : Loss : {:.4f}, Accuracy: {:.4f}%, Time: {:.4f}s\".format(epoch, avg_train_loss, avg_train_acc * 100, avg_test_loss, avg_test_acc * 100, epoch_end - epoch_start))\n",
        "\n",
        "        # Save if the model has best accuracy till now\n",
        "        if avg_test_acc > best_acc:\n",
        "            best_acc = avg_test_acc\n",
        "            best_model = model\n",
        "            torch.save(best_model, 'best_model.pt')\n",
        "\n",
        "    return best_model, history"
      ],
      "metadata": {
        "id": "fxGwcEfCBwC9"
      },
      "execution_count": null,
      "outputs": []
    },
    {
      "cell_type": "code",
      "source": [
        "num_epochs = 10\n",
        "trained_model, history = train_and_validate(model, loss_fn, optimizer,\n",
        "                                          train_dataloader, test_dataloader,\n",
        "                                          num_epochs)"
      ],
      "metadata": {
        "colab": {
          "base_uri": "https://localhost:8080/",
          "height": 603,
          "referenced_widgets": [
            "d9a6cff966d84450947a40a8e21c5636",
            "2469c4e859824bbc812b44c8999e5857",
            "33daed5429aa4411960ee2d3333c35ef",
            "a83ff936631247e8b03d9155c5e9dd89",
            "7f223c4fbec84cffb10a8755af2837e6",
            "846bfadf56c24c24a3f9c96a01cc6aa5",
            "1587a6c5deb14d1595d6a4fc81b64fb6",
            "9b2e6b0748794bb18d478519f240a08a",
            "d2bc2af823754707b1ad5ead0a7c8632",
            "fc4222d51e3b4b1395b17aba2e814b8d",
            "b184ac8ab1304ae2be9af163112fc4e0"
          ]
        },
        "outputId": "9400e2bc-97c1-4a30-bae0-c429f5794b6f",
        "id": "MWgIn8hLBwC9"
      },
      "execution_count": null,
      "outputs": [
        {
          "output_type": "display_data",
          "data": {
            "text/plain": [
              "  0%|          | 0/10 [00:00<?, ?it/s]"
            ],
            "application/vnd.jupyter.widget-view+json": {
              "version_major": 2,
              "version_minor": 0,
              "model_id": "d9a6cff966d84450947a40a8e21c5636"
            }
          },
          "metadata": {}
        },
        {
          "output_type": "stream",
          "name": "stdout",
          "text": [
            "Epoch: 1/10\n",
            "Epoch : 000, Training: Loss: 0.9351, Accuracy: 66.1355%, \n",
            "\t\tValidation : Loss : 0.8389, Accuracy: 62.1212%, Time: 12.7901s\n",
            "Epoch: 2/10\n",
            "Epoch : 001, Training: Loss: 0.4923, Accuracy: 84.0637%, \n",
            "\t\tValidation : Loss : 0.4102, Accuracy: 84.8485%, Time: 12.2743s\n",
            "Epoch: 3/10\n",
            "Epoch : 002, Training: Loss: 0.3339, Accuracy: 89.2430%, \n",
            "\t\tValidation : Loss : 0.6442, Accuracy: 68.1818%, Time: 11.9975s\n",
            "Epoch: 4/10\n",
            "Epoch : 003, Training: Loss: 0.1978, Accuracy: 94.4223%, \n",
            "\t\tValidation : Loss : 0.3430, Accuracy: 83.3333%, Time: 11.2608s\n",
            "Epoch: 5/10\n",
            "Epoch : 004, Training: Loss: 0.0903, Accuracy: 97.2112%, \n",
            "\t\tValidation : Loss : 0.2567, Accuracy: 90.9091%, Time: 12.0086s\n",
            "Epoch: 6/10\n",
            "Epoch : 005, Training: Loss: 0.1178, Accuracy: 96.4143%, \n",
            "\t\tValidation : Loss : 0.1318, Accuracy: 95.4545%, Time: 12.2497s\n",
            "Epoch: 7/10\n",
            "Epoch : 006, Training: Loss: 0.0898, Accuracy: 98.0080%, \n",
            "\t\tValidation : Loss : 0.1788, Accuracy: 93.9394%, Time: 12.1565s\n",
            "Epoch: 8/10\n",
            "Epoch : 007, Training: Loss: 0.0190, Accuracy: 99.2032%, \n",
            "\t\tValidation : Loss : 0.3254, Accuracy: 92.4242%, Time: 12.2137s\n",
            "Epoch: 9/10\n",
            "Epoch : 008, Training: Loss: 0.0170, Accuracy: 99.6016%, \n",
            "\t\tValidation : Loss : 0.1671, Accuracy: 93.9394%, Time: 12.2181s\n",
            "Epoch: 10/10\n",
            "Epoch : 009, Training: Loss: 0.0015, Accuracy: 100.0000%, \n",
            "\t\tValidation : Loss : 0.0899, Accuracy: 95.4545%, Time: 12.2085s\n"
          ]
        }
      ]
    },
    {
      "cell_type": "code",
      "source": [
        "def plot_accuracy(history):\n",
        "  history = np.array(history)\n",
        "  plt.plot(history[:,2:4])\n",
        "  plt.legend(['Tr Accuracy', 'Val Accuracy'])\n",
        "  plt.xlabel('Epoch Number')\n",
        "  plt.ylabel('Accuracy')\n",
        "  plt.ylim(0,1)\n",
        "  # plt.savefig('cifar10_accuracy_curve.png')\n",
        "  plt.show()\n",
        "\n",
        "plot_accuracy(history)"
      ],
      "metadata": {
        "colab": {
          "base_uri": "https://localhost:8080/",
          "height": 455
        },
        "outputId": "4236528d-c00b-4fbf-abce-19c793c41a35",
        "id": "m_UiheKhBwC9"
      },
      "execution_count": null,
      "outputs": [
        {
          "output_type": "display_data",
          "data": {
            "text/plain": [
              "<Figure size 640x480 with 1 Axes>"
            ],
            "image/png": "[encoded data removed]"
          },
          "metadata": {}
        }
      ]
    },
    {
      "cell_type": "markdown",
      "metadata": {
        "id": "DzPPxsCX8zus"
      },
      "source": [
        "d) Do you see any accuracy improvement? Whether it is a \"yes\" or \"no\", discuss the possible reasons contributing to the accuracy improvement/ unimprovement. **(4 marks)**\n",
        "\n",
        "<span style=\"color:blue\">\n",
        "    YES. the maximun validation accuracy for vgg16 is 95.4545%, higher compared to cnn which is 86.3636%. By finetuning the network with the new model VGG16, we are pretraining the data with its model's dataset which has a greater collection of image sources, 14 Million.(With Reference to https://www.geeksforgeeks.org/vgg-16-cnn-model/). Furthermore, the model has an increased amount of layers. Which increases the accuracy as well.  </span>"
      ]
    },
    {
      "cell_type": "markdown",
      "metadata": {
        "id": "FCy3b5888zut"
      },
      "source": [
        "**QUESTION 3** **[15 marks]**\n",
        "\n",
        "In a machine vision project, you decide to design a door access control system based on hand gestures. Only those who shows the correct hand gesture will be granted the access. There are three gestures that are recognized as correct access passcode which are \"shaka\", \"peace\" and \"thumbs up\", as depicted in Fig. 2.\n",
        "\n",
        "![pic](https://simplyorganizedhi.com/media/catalog/product/1/6/169500.jpg)\n",
        "\n",
        "                                Fig. 2 Shaka,peace, and thumbs up\n",
        "\n",
        "\n",
        "Using the end-to-end object detection pipeline that you have learned, develop your own hand gesture detector so that it can be incorporate to a door access control system.\n",
        "\n",
        "Deliverable for this question is the model .pt file. Change the name to <your_name>.pt file (e.g. hasan.pt).\n",
        "\n",
        "- Marks are given based on the performance of the model when tested using my machine and camera at my office. This question aims to evaluate the model's robustness and generalization capabilities."
      ]
    },
    {
      "cell_type": "code",
      "execution_count": null,
      "metadata": {
        "id": "9oIfLdzS8zut"
      },
      "outputs": [],
      "source": []
    }
  ],
  "metadata": {
    "colab": {
      "provenance": []
    },
    "kernelspec": {
      "display_name": "MV",
      "language": "python",
      "name": "python3"
    },
    "language_info": {
      "codemirror_mode": {
        "name": "ipython",
        "version": 3
      },
      "file_extension": ".py",
      "mimetype": "text/x-python",
      "name": "python",
      "nbconvert_exporter": "python",
      "pygments_lexer": "ipython3",
      "version": "3.8.18"
    }
  },
  "nbformat": 4,
  "nbformat_minor": 0
}